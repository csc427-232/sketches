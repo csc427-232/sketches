{
 "cells": [
  {
   "cell_type": "markdown",
   "id": "bd9ade74",
   "metadata": {},
   "source": [
    "## Turing Machine Simulator\n",
    "\n",
    "_csc427, semester 232_\n",
    "<br>\n",
    "_university of miami_\n",
    "<br>\n",
    "_date: 5 march 2023_\n"
   ]
  },
  {
   "cell_type": "markdown",
   "id": "36b7941d",
   "metadata": {},
   "source": [
    "\n",
    "### Syntax \n",
    "\n",
    "\n",
    "The file is a sequence of stanzas. Each stanza starts with a head line starting \n",
    "in the first column. The first word in the head line as a keyword indicating \n",
    "the type of stanza. A stanza may have continuation lines, each are indented.\n",
    "\n",
    "The # character starts a comment, and the comment extends to the end of the line. \n",
    "Since the # is used for this \n",
    "purpose it cannot be a tape symbol. If you wish to code programs in the textbook that use\n",
    "the # symbol, substitute with one of the allowed punctuations.\n",
    "\n",
    "The syntax can be described by the following grammar.\n",
    "\n",
    "- __M__ -> (__Stanza__ [emptyline])*\n",
    "- __Stanza__ -> __StartStanza__ | __TapesStanza__ | __AcceptStanza__ | __RejectStanza__ | __StateStanza__\n",
    "- __StartStanza__ -> \"start:\" __Ident__\n",
    "- __TapesStanza__ -> \"tapes:\" number\n",
    "- __AcceptStanza__ -> \"accept:\" __Ident__ (\\n\\t __Ident__)*\n",
    "- __RejectStanza__ -> \"reject:\" __Ident__ (\\n\\t __Ident__)*\n",
    "- __StateStanza__ -> \"state:\" __Ident__ (\\n\\t __StateTransition__)+\n",
    "- __StateTransition__ -> (__Symbol__|__Special__){k} (__Symbol__|__Special__){k} __Action__ __Ident__\n",
    "- __Symbol__ -> tape symbols are alphanumeric or punctuation ! $ % & ( ) * + , - . or /\n",
    "- __Special__ -> the : and _\n",
    "- __Action__ -> the characters l, r and n or uppercase L, R and N.\n",
    "- __Ident__ -> a nonempty string of alphanumerics\n",
    "\n",
    "There must be exactly one start, accept and reject stanzas.\n",
    "\n",
    "The tape stanza must occur before any state stanza.\n",
    "\n",
    "The underscore (_) substitutes for the blank. It is the default chacters of all unfilled cells on the tape.\n",
    "Using the blank for the initial tape contents is allowed, it will be rewritten to the underscore character.\n",
    "\n",
    "An Ident is the label of a state.\n",
    "\n",
    "A StateStanza names to from state after the colon and each StateTransition line gives\n",
    "one transition according to the syntax (for the case of k=1):\n",
    "\n",
    "<pre>    read-symbol write-symbol action new-state </pre>\n",
    "\n",
    "For the case of k&gt;1, \n",
    "The StateTransition line is interpreted as first the k tape symbols to match on the k tapes; then the k tape symbols to write on the k tapes, then the k actions to undertake on the k tapes.\n",
    "\n",
    "The action is either l, r or n, meaning move left, move right, or no move. As a debuging feature, if the code for the action captialized the machine configuration is printed after the transition.\n",
    "\n",
    "The colon (:) is a wildcard. It's use among the k read symbols matches any symbol. Four use cases are allowed, and are listed in the priority the case is applied,\n",
    "\n",
    "    No wildcards. An exact match of the k type symbols has top precedence.\n",
    "    One wildcard. An exact match for all but one symbol is tried if \n",
    "       there is no exact match.\n",
    "    k-1 wildcards. An exact match for exactly one symbol, the k-1 are wildcards, \n",
    "       is tried next.\n",
    "    All wildcards. The default matches anything.\n",
    "\n",
    "When the wildcard appearing as a write symbol, it is set equal to the read symbol, on the corresponding tape.\n",
    "\n",
    "A missing transition halts with reject. This and the wildcard are convenience features to\n",
    "shorten the TM programs.\n",
    "\n",
    "If the machine rejects, it can be queried for the cause of the reject,\n",
    "\n",
    "    Reject becaues halted in a reject state.\n",
    "    Reject because of a missing transition.\n",
    "    Reject bedcause the computation terminated for excessive computation steps.\n",
    "\n",
    "The method is_exception classes the first two rejects as correct computations, and the last as an exception."
   ]
  },
  {
   "cell_type": "markdown",
   "id": "a04b1864",
   "metadata": {},
   "source": [
    "### Recognizing a Simple RE\n",
    "\n",
    "An example for the syntax is the following program recognizing a+b+c+. \n",
    "\n",
    "Note the call to compute_tm requires a string, a parameter giving maximum number of steps\n",
    "permitted to the computation, and an optional verbose parameter."
   ]
  },
  {
   "cell_type": "code",
   "execution_count": 11,
   "id": "c8673d6b",
   "metadata": {},
   "outputs": [
    {
     "name": "stdout",
     "output_type": "stream",
     "text": [
      "0 [q0]\t[a]abbcc_\n",
      "1 [q0]\ta[a]bbcc_\n",
      "2 [q0]\taa[b]bcc_\n",
      "3 [q1]\taab[b]cc_\n",
      "4 [q1]\taabb[c]c_\n",
      "5 [q2]\taabbc[c]_\n",
      "6 [q2]\taabbcc[_]\n",
      "7 [A]\taabbcc_[_]\n",
      "accept (ok)\n",
      "0 [q0]\t[a]bca_\n",
      "1 [q0]\ta[b]ca_\n",
      "2 [q1]\tab[c]a_\n",
      "3 [q2]\tabc[a]_\n",
      "reject (transition missing)\n"
     ]
    },
    {
     "data": {
      "text/plain": [
       "False"
      ]
     },
     "execution_count": 11,
     "metadata": {},
     "output_type": "execute_result"
    }
   ],
   "source": [
    "tm_abc= \"\"\"# a TM program to recognize a+b+c+\n",
    "\n",
    "accept: A\n",
    "reject: R\n",
    "start: q0\n",
    "\n",
    "state: q0    \n",
    "    a a r q0  # should start with an a, and loop over further a's\n",
    "    b b r q1  # until a b.\n",
    "              # note: missing transtions cause the machine to reject (c or _)\n",
    "    \n",
    "state: q1\n",
    "    b b r q1  # continue over further b's\n",
    "    c c r q2  # until a c.\n",
    "    \n",
    "state: q2\n",
    "    c c r q2  # continue over further c's\n",
    "    _ _ r A   # until the end of the tape\n",
    "\n",
    "\"\"\"\n",
    "\n",
    "# verbose = 'none'\n",
    "verbose = 'explain'\n",
    "# verbose = 'verbose'\n",
    "\n",
    "max_steps = 100\n",
    "\n",
    "from turing_machine_sim import *\n",
    "\n",
    "tm = MachineParser.create_from_description(tm_abc)\n",
    "tm.compute_tm('aabbcc', max_steps, verbose=verbose)\n",
    "tm.compute_tm('abca', max_steps, verbose=verbose)\n",
    "\n"
   ]
  },
  {
   "cell_type": "markdown",
   "id": "4b2aa509",
   "metadata": {},
   "source": [
    "### Erasing the Tape\n",
    "\n",
    "Accept everything, while erasing the tape leaving the head at the start of the tape.\n",
    "\n",
    "A Turing Machine opens up another aspect of computation. So far, the algorithms in this\n",
    "class have only a boolean result: true or false for membership of an element in a set.\n",
    "(In fact, membership in a subset of a set, as we always assume the input is of proper form.)\n",
    "\n",
    "This example intrduces another meaning for computation. It is the more common meaning of\n",
    "\"doing something\" &mdash; in this case, the TM erases the tape."
   ]
  },
  {
   "cell_type": "code",
   "execution_count": 12,
   "id": "eb906f87",
   "metadata": {},
   "outputs": [
    {
     "name": "stdout",
     "output_type": "stream",
     "text": [
      "0 [q0]\t[a]bc_\n",
      "1 [q1]\t$[b]c_\n",
      "2 [q1]\t$b[c]_\n",
      "3 [q1]\t$bc[_]\n",
      "4 [q2]\t$b[c]_\n",
      "5 [q2]\t$[b]__\n",
      "6 [q2]\t[$]___\n",
      "7 [A]\t[_]___\n",
      "accept (ok)\n"
     ]
    },
    {
     "data": {
      "text/plain": [
       "True"
      ]
     },
     "execution_count": 12,
     "metadata": {},
     "output_type": "execute_result"
    }
   ],
   "source": [
    "tm_erase = \"\"\"# erase the tape\n",
    "\n",
    "accept: A\n",
    "reject: R\n",
    "start: q0\n",
    "\n",
    "state: q0    # write a tape endmarker\n",
    "    : $ R q1\n",
    "    \n",
    "state: q1\n",
    "    : : r q1 # more right not replacing symbols\n",
    "    _ _ l q2 # begin the erase while returning\n",
    "    \n",
    "state: q2\n",
    "    : _ l q2 # erase symbols\n",
    "    $ _ N A  # stop at the endmarker\n",
    "\"\"\"\n",
    "\n",
    "\n",
    "# verbose = 'none'\n",
    "verbose = 'explain'\n",
    "# verbose = 'verbose'\n",
    "\n",
    "max_steps = 100\n",
    "\n",
    "tm = MachineParser.create_from_description(tm_erase)\n",
    "tm.compute_tm('abc', max_steps, verbose=verbose)\n"
   ]
  },
  {
   "cell_type": "code",
   "execution_count": null,
   "id": "bb517604",
   "metadata": {},
   "outputs": [],
   "source": []
  }
 ],
 "metadata": {
  "kernelspec": {
   "display_name": "Python 3 (ipykernel)",
   "language": "python",
   "name": "python3"
  },
  "language_info": {
   "codemirror_mode": {
    "name": "ipython",
    "version": 3
   },
   "file_extension": ".py",
   "mimetype": "text/x-python",
   "name": "python",
   "nbconvert_exporter": "python",
   "pygments_lexer": "ipython3",
   "version": "3.9.7"
  }
 },
 "nbformat": 4,
 "nbformat_minor": 5
}
