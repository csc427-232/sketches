{
 "cells": [
  {
   "cell_type": "markdown",
   "id": "bd9ade74",
   "metadata": {},
   "source": [
    "## Turing Machine Simulator\n",
    "\n",
    "<pre>\n",
    "CSC 427, Semester 232\n",
    "Burton Rosenberg\n",
    "University of Miami\n",
    "5 march 2023\n",
    "\n",
    "Copyright 2023 (c) Burton Rosenberg. All rights reserved.\n",
    "</pre>\n",
    "\n",
    "\n"
   ]
  },
  {
   "cell_type": "markdown",
   "id": "a04b1864",
   "metadata": {},
   "source": [
    "### A Simple RE recognizer.\n",
    "\n",
    "An example for the syntax is the following program recognizing a+b+c+. \n",
    "\n",
    "Note the call to compute_tm requires a string, a parameter giving maximum number of steps\n",
    "permitted to the computation, and an optional verbose parameter."
   ]
  },
  {
   "cell_type": "code",
   "execution_count": 1,
   "id": "c8673d6b",
   "metadata": {},
   "outputs": [
    {
     "name": "stdout",
     "output_type": "stream",
     "text": [
      "0 [q0]\t[a]abbcc_\n",
      "1 [q0]\ta[a]bbcc_\n",
      "2 [q0]\taa[b]bcc_\n",
      "3 [q1]\taab[b]cc_\n",
      "4 [q1]\taabb[c]c_\n",
      "5 [q2]\taabbc[c]_\n",
      "6 [q2]\taabbcc[_]\n",
      "7 [A]\taabbcc_[_]\n",
      "accept (ok)\n",
      "0 [q0]\t[a]bca_\n",
      "1 [q0]\ta[b]ca_\n",
      "2 [q1]\tab[c]a_\n",
      "3 [q2]\tabc[a]_\n",
      "reject (transition missing)\n"
     ]
    },
    {
     "data": {
      "text/plain": [
       "False"
      ]
     },
     "execution_count": 1,
     "metadata": {},
     "output_type": "execute_result"
    }
   ],
   "source": [
    "tm_abc= \"\"\"# a TM program to recognize a+b+c+\n",
    "\n",
    "accept: A\n",
    "reject: R\n",
    "start: q0\n",
    "\n",
    "state: q0    \n",
    "    a a r q0  # should start with an a, and loop over further a's\n",
    "    b b r q1  # until a b.\n",
    "              # note: missing transtions cause the machine to reject (c or _)\n",
    "    \n",
    "state: q1\n",
    "    b b r q1  # continue over further b's\n",
    "    c c r q2  # until a c.\n",
    "    \n",
    "state: q2\n",
    "    c c r q2  # continue over further c's\n",
    "    _ _ r A   # until the end of the tape\n",
    "\n",
    "\"\"\"\n",
    "\n",
    "# verbose = 'none'\n",
    "verbose = 'explain'\n",
    "# verbose = 'verbose'\n",
    "\n",
    "max_steps = 100\n",
    "\n",
    "from turing_machine_sim import *\n",
    "\n",
    "tm = MachineParser.create_from_description(tm_abc)\n",
    "tm.compute_tm('aabbcc', max_steps, verbose=verbose)\n",
    "tm.compute_tm('abca', max_steps, verbose=verbose)\n",
    "\n"
   ]
  },
  {
   "cell_type": "markdown",
   "id": "c3c28edc",
   "metadata": {},
   "source": [
    "## The copy language\n",
    "\n",
    "Accept strings of the form `w&w` where `w` is a string over `{a,b}^*`.\n",
    "\n",
    "This uses the zig-zag marking approach."
   ]
  },
  {
   "cell_type": "code",
   "execution_count": 2,
   "id": "bb517604",
   "metadata": {},
   "outputs": [
    {
     "name": "stdout",
     "output_type": "stream",
     "text": [
      "0 [s]\t[a]ab&aab_\n",
      "1 [looka1]\tx[a]b&aab_\n",
      "2 [looka1]\txa[b]&aab_\n",
      "3 [looka1]\txab[&]aab_\n",
      "4 [looka2]\txab&[a]ab_\n",
      "5 [back1]\txab[&]xab_\n",
      "6 [back2]\txa[b]&xab_\n",
      "7 [back2]\tx[a]b&xab_\n",
      "8 [back2]\t[x]ab&xab_\n",
      "9 [s]\tx[a]b&xab_\n",
      "10 [looka1]\txx[b]&xab_\n",
      "11 [looka1]\txxb[&]xab_\n",
      "12 [looka2]\txxb&[x]ab_\n",
      "13 [looka2]\txxb&x[a]b_\n",
      "14 [back1]\txxb&[x]xb_\n",
      "15 [back1]\txxb[&]xxb_\n",
      "16 [back2]\txx[b]&xxb_\n",
      "17 [back2]\tx[x]b&xxb_\n",
      "18 [s]\txx[b]&xxb_\n",
      "19 [lookb1]\txxx[&]xxb_\n",
      "20 [lookb2]\txxx&[x]xb_\n",
      "21 [lookb2]\txxx&x[x]b_\n",
      "22 [lookb2]\txxx&xx[b]_\n",
      "23 [back1]\txxx&x[x]x_\n",
      "24 [back1]\txxx&[x]xx_\n",
      "25 [back1]\txxx[&]xxx_\n",
      "26 [back2]\txx[x]&xxx_\n",
      "27 [s]\txxx[&]xxx_\n",
      "28 [end1]\txxx&[x]xx_\n",
      "29 [end1]\txxx&x[x]x_\n",
      "30 [end1]\txxx&xx[x]_\n",
      "31 [end1]\txxx&xxx[_]\n",
      "32 [A]\txxx&xxx_[_]\n",
      "accept (ok)\n",
      "0 [s]\t[a]ab&abb_\n",
      "1 [looka1]\tx[a]b&abb_\n",
      "2 [looka1]\txa[b]&abb_\n",
      "3 [looka1]\txab[&]abb_\n",
      "4 [looka2]\txab&[a]bb_\n",
      "5 [back1]\txab[&]xbb_\n",
      "6 [back2]\txa[b]&xbb_\n",
      "7 [back2]\tx[a]b&xbb_\n",
      "8 [back2]\t[x]ab&xbb_\n",
      "9 [s]\tx[a]b&xbb_\n",
      "10 [looka1]\txx[b]&xbb_\n",
      "11 [looka1]\txxb[&]xbb_\n",
      "12 [looka2]\txxb&[x]bb_\n",
      "13 [looka2]\txxb&x[b]b_\n",
      "14 [looka2]\txxb&xb[b]_\n",
      "15 [looka2]\txxb&xbb[_]\n",
      "16 [R]\txxb&xbb_[_]\n",
      "reject (ok)\n"
     ]
    },
    {
     "data": {
      "text/plain": [
       "False"
      ]
     },
     "execution_count": 2,
     "metadata": {},
     "output_type": "execute_result"
    }
   ],
   "source": [
    "tm_erase = \"\"\"# w&w\n",
    "\n",
    "accept: A\n",
    "reject: R\n",
    "start: s\n",
    "\n",
    "state: s   # write a tape endmarker\n",
    "    a x r looka1 # x it off and look for a matching a\n",
    "    b x r lookb1 # x it off and look for a matching b\n",
    "    & : r end1   # left w is all x'ed off\n",
    "    \n",
    "state: looka1\n",
    "    : : r looka1 # move right until &\n",
    "    & : r looka2\n",
    "    _ : r R      # no &\n",
    "    \n",
    "state: looka2\n",
    "    : : r looka2 # move right until a matching a\n",
    "    a x l back1  # found, go back for another character\n",
    "    _ : r R      # no a\n",
    "    \n",
    "state: lookb1\n",
    "    : : r lookb1 # move right until &\n",
    "    & : r lookb2\n",
    "    _ : r R      # no &\n",
    "    \n",
    "state: lookb2\n",
    "    : : r lookb2 # move right until a matching b\n",
    "    b x l back1  # found, go back for another character\n",
    "    _ : r R      # no b\n",
    "\n",
    "state: back1\n",
    "    : : l back1 # find the &\n",
    "    & : l back2 \n",
    "    \n",
    "state: back2\n",
    "    : : l back2 # find the x\n",
    "    x x r s \n",
    "\n",
    "state: end1\n",
    "    x x r end1\n",
    "    _ _ r A\n",
    "\n",
    "\"\"\"\n",
    "\n",
    "\n",
    "# verbose = 'none'\n",
    "verbose = 'explain'\n",
    "# verbose = 'verbose'\n",
    "\n",
    "max_steps = 100\n",
    "\n",
    "tm = MachineParser.create_from_description(tm_erase)\n",
    "tm.compute_tm('aab&aab', max_steps, verbose=verbose)\n",
    "tm.compute_tm('aab&abb', max_steps, verbose=verbose)\n",
    "\n"
   ]
  },
  {
   "cell_type": "code",
   "execution_count": null,
   "id": "e1f8fdfe",
   "metadata": {},
   "outputs": [],
   "source": []
  },
  {
   "cell_type": "markdown",
   "id": "4b2aa509",
   "metadata": {},
   "source": [
    "### Erasing the Tape\n",
    "\n",
    "Accept everything, while erasing the tape leaving the head at the start of the tape.\n",
    "\n",
    "A Turing Machine opens up another aspect of computation. So far, the algorithms in this\n",
    "class have only a boolean result: true or false for membership of an element in a set.\n",
    "(In fact, membership in a subset of a set, as we always assume the input is of proper form.)\n",
    "\n",
    "This example intrduces another meaning for computation. It is the more common meaning of\n",
    "\"doing something\" &mdash; in this case, the TM erases the tape."
   ]
  },
  {
   "cell_type": "code",
   "execution_count": 3,
   "id": "eb906f87",
   "metadata": {},
   "outputs": [
    {
     "name": "stdout",
     "output_type": "stream",
     "text": [
      "0 [q0]\t[a]bc_\n",
      "1 [q1]\t$[b]c_\n",
      "2 [q1]\t$b[c]_\n",
      "3 [q1]\t$bc[_]\n",
      "4 [q2]\t$b[c]_\n",
      "5 [q2]\t$[b]__\n",
      "6 [q2]\t[$]___\n",
      "7 [A]\t[_]___\n",
      "accept (ok)\n"
     ]
    },
    {
     "data": {
      "text/plain": [
       "True"
      ]
     },
     "execution_count": 3,
     "metadata": {},
     "output_type": "execute_result"
    }
   ],
   "source": [
    "tm_erase = \"\"\"# erase the tape\n",
    "\n",
    "accept: A\n",
    "reject: R\n",
    "start: q0\n",
    "\n",
    "state: q0    # write a tape endmarker\n",
    "    : $ R q1\n",
    "    \n",
    "state: q1\n",
    "    : : r q1 # more right not replacing symbols\n",
    "    _ _ l q2 # begin the erase while returning\n",
    "    \n",
    "state: q2\n",
    "    : _ l q2 # erase symbols\n",
    "    $ _ N A  # stop at the endmarker\n",
    "\"\"\"\n",
    "\n",
    "\n",
    "# verbose = 'none'\n",
    "verbose = 'explain'\n",
    "# verbose = 'verbose'\n",
    "\n",
    "max_steps = 100\n",
    "\n",
    "tm = MachineParser.create_from_description(tm_erase)\n",
    "tm.compute_tm('abc', max_steps, verbose=verbose)\n"
   ]
  },
  {
   "cell_type": "code",
   "execution_count": null,
   "id": "bc7952ff",
   "metadata": {},
   "outputs": [],
   "source": []
  },
  {
   "cell_type": "code",
   "execution_count": null,
   "id": "8b6e4f45",
   "metadata": {},
   "outputs": [],
   "source": []
  }
 ],
 "metadata": {
  "kernelspec": {
   "display_name": "Python 3 (ipykernel)",
   "language": "python",
   "name": "python3"
  },
  "language_info": {
   "codemirror_mode": {
    "name": "ipython",
    "version": 3
   },
   "file_extension": ".py",
   "mimetype": "text/x-python",
   "name": "python",
   "nbconvert_exporter": "python",
   "pygments_lexer": "ipython3",
   "version": "3.9.7"
  }
 },
 "nbformat": 4,
 "nbformat_minor": 5
}
