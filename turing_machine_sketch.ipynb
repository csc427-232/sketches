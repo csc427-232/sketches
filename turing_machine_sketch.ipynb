{
 "cells": [
  {
   "cell_type": "markdown",
   "id": "bd9ade74",
   "metadata": {},
   "source": [
    "## Turing Machine Simulator\n",
    "\n",
    "<pre>\n",
    "csc427, semester 232\n",
    "university of miami\n",
    "date: 5 march 2023\n",
    "</pre>\n",
    "\n",
    "Copyright 2023 (c) All rights reserved.\n"
   ]
  },
  {
   "cell_type": "markdown",
   "id": "a04b1864",
   "metadata": {},
   "source": [
    "### Recognizing a Simple RE\n",
    "\n",
    "An example for the syntax is the following program recognizing a+b+c+. \n",
    "\n",
    "Note the call to compute_tm requires a string, a parameter giving maximum number of steps\n",
    "permitted to the computation, and an optional verbose parameter."
   ]
  },
  {
   "cell_type": "code",
   "execution_count": 11,
   "id": "c8673d6b",
   "metadata": {},
   "outputs": [
    {
     "name": "stdout",
     "output_type": "stream",
     "text": [
      "0 [q0]\t[a]abbcc_\n",
      "1 [q0]\ta[a]bbcc_\n",
      "2 [q0]\taa[b]bcc_\n",
      "3 [q1]\taab[b]cc_\n",
      "4 [q1]\taabb[c]c_\n",
      "5 [q2]\taabbc[c]_\n",
      "6 [q2]\taabbcc[_]\n",
      "7 [A]\taabbcc_[_]\n",
      "accept (ok)\n",
      "0 [q0]\t[a]bca_\n",
      "1 [q0]\ta[b]ca_\n",
      "2 [q1]\tab[c]a_\n",
      "3 [q2]\tabc[a]_\n",
      "reject (transition missing)\n"
     ]
    },
    {
     "data": {
      "text/plain": [
       "False"
      ]
     },
     "execution_count": 11,
     "metadata": {},
     "output_type": "execute_result"
    }
   ],
   "source": [
    "tm_abc= \"\"\"# a TM program to recognize a+b+c+\n",
    "\n",
    "accept: A\n",
    "reject: R\n",
    "start: q0\n",
    "\n",
    "state: q0    \n",
    "    a a r q0  # should start with an a, and loop over further a's\n",
    "    b b r q1  # until a b.\n",
    "              # note: missing transtions cause the machine to reject (c or _)\n",
    "    \n",
    "state: q1\n",
    "    b b r q1  # continue over further b's\n",
    "    c c r q2  # until a c.\n",
    "    \n",
    "state: q2\n",
    "    c c r q2  # continue over further c's\n",
    "    _ _ r A   # until the end of the tape\n",
    "\n",
    "\"\"\"\n",
    "\n",
    "# verbose = 'none'\n",
    "verbose = 'explain'\n",
    "# verbose = 'verbose'\n",
    "\n",
    "max_steps = 100\n",
    "\n",
    "from turing_machine_sim import *\n",
    "\n",
    "tm = MachineParser.create_from_description(tm_abc)\n",
    "tm.compute_tm('aabbcc', max_steps, verbose=verbose)\n",
    "tm.compute_tm('abca', max_steps, verbose=verbose)\n",
    "\n"
   ]
  },
  {
   "cell_type": "markdown",
   "id": "4b2aa509",
   "metadata": {},
   "source": [
    "### Erasing the Tape\n",
    "\n",
    "Accept everything, while erasing the tape leaving the head at the start of the tape.\n",
    "\n",
    "A Turing Machine opens up another aspect of computation. So far, the algorithms in this\n",
    "class have only a boolean result: true or false for membership of an element in a set.\n",
    "(In fact, membership in a subset of a set, as we always assume the input is of proper form.)\n",
    "\n",
    "This example intrduces another meaning for computation. It is the more common meaning of\n",
    "\"doing something\" &mdash; in this case, the TM erases the tape."
   ]
  },
  {
   "cell_type": "code",
   "execution_count": 12,
   "id": "eb906f87",
   "metadata": {},
   "outputs": [
    {
     "name": "stdout",
     "output_type": "stream",
     "text": [
      "0 [q0]\t[a]bc_\n",
      "1 [q1]\t$[b]c_\n",
      "2 [q1]\t$b[c]_\n",
      "3 [q1]\t$bc[_]\n",
      "4 [q2]\t$b[c]_\n",
      "5 [q2]\t$[b]__\n",
      "6 [q2]\t[$]___\n",
      "7 [A]\t[_]___\n",
      "accept (ok)\n"
     ]
    },
    {
     "data": {
      "text/plain": [
       "True"
      ]
     },
     "execution_count": 12,
     "metadata": {},
     "output_type": "execute_result"
    }
   ],
   "source": [
    "tm_erase = \"\"\"# erase the tape\n",
    "\n",
    "accept: A\n",
    "reject: R\n",
    "start: q0\n",
    "\n",
    "state: q0    # write a tape endmarker\n",
    "    : $ R q1\n",
    "    \n",
    "state: q1\n",
    "    : : r q1 # more right not replacing symbols\n",
    "    _ _ l q2 # begin the erase while returning\n",
    "    \n",
    "state: q2\n",
    "    : _ l q2 # erase symbols\n",
    "    $ _ N A  # stop at the endmarker\n",
    "\"\"\"\n",
    "\n",
    "\n",
    "# verbose = 'none'\n",
    "verbose = 'explain'\n",
    "# verbose = 'verbose'\n",
    "\n",
    "max_steps = 100\n",
    "\n",
    "tm = MachineParser.create_from_description(tm_erase)\n",
    "tm.compute_tm('abc', max_steps, verbose=verbose)\n"
   ]
  },
  {
   "cell_type": "code",
   "execution_count": null,
   "id": "bb517604",
   "metadata": {},
   "outputs": [],
   "source": []
  }
 ],
 "metadata": {
  "kernelspec": {
   "display_name": "Python 3 (ipykernel)",
   "language": "python",
   "name": "python3"
  },
  "language_info": {
   "codemirror_mode": {
    "name": "ipython",
    "version": 3
   },
   "file_extension": ".py",
   "mimetype": "text/x-python",
   "name": "python",
   "nbconvert_exporter": "python",
   "pygments_lexer": "ipython3",
   "version": "3.9.7"
  }
 },
 "nbformat": 4,
 "nbformat_minor": 5
}
